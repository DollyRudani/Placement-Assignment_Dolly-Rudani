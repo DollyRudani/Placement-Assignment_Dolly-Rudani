{
 "cells": [
  {
   "cell_type": "code",
   "execution_count": 1,
   "metadata": {},
   "outputs": [
    {
     "name": "stdout",
     "output_type": "stream",
     "text": [
      "Data has been downloaded and exported to pokemon_data.xlsx.\n"
     ]
    }
   ],
   "source": [
    "import requests\n",
    "import pandas as pd\n",
    "\n",
    "# Function to download the data from the provided link\n",
    "def download_data(url):\n",
    "    response = requests.get(url)\n",
    "    data = response.json()\n",
    "    return data\n",
    "\n",
    "# Function to convert the data into a structured format\n",
    "def convert_to_dataframe(data):\n",
    "    df = pd.json_normalize(data['pokemon'])\n",
    "    return df\n",
    "\n",
    "# Function to export the data to an Excel file\n",
    "def export_to_excel(df, filename):\n",
    "    df.to_excel(filename, index=False)\n",
    "\n",
    "# Main program\n",
    "if __name__ == '__main__':\n",
    "    url = 'https://raw.githubusercontent.com/Biuni/PokemonGO-Pokedex/master/pokedex.json'\n",
    "    filename = 'pokemon_data.xlsx'\n",
    "\n",
    "    # Download the data\n",
    "    data = download_data(url)\n",
    "\n",
    "    # Convert the data to a structured format\n",
    "    df = convert_to_dataframe(data)\n",
    "\n",
    "    # Export the data to an Excel file\n",
    "    export_to_excel(df, filename)\n",
    "\n",
    "    print(f'Data has been downloaded and exported to {filename}.')\n"
   ]
  },
  {
   "cell_type": "code",
   "execution_count": null,
   "metadata": {},
   "outputs": [],
   "source": []
  }
 ],
 "metadata": {
  "kernelspec": {
   "display_name": "Python 3",
   "language": "python",
   "name": "python3"
  },
  "language_info": {
   "codemirror_mode": {
    "name": "ipython",
    "version": 3
   },
   "file_extension": ".py",
   "mimetype": "text/x-python",
   "name": "python",
   "nbconvert_exporter": "python",
   "pygments_lexer": "ipython3",
   "version": "3.11.3"
  },
  "orig_nbformat": 4
 },
 "nbformat": 4,
 "nbformat_minor": 2
}

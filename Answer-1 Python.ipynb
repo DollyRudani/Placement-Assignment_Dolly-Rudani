{
 "cells": [
  {
   "cell_type": "code",
   "execution_count": 1,
   "metadata": {},
   "outputs": [
    {
     "name": "stdout",
     "output_type": "stream",
     "text": [
      "5\n",
      "5\n",
      "6\n"
     ]
    }
   ],
   "source": [
    "def find_highest_frequency_word_length(string):\n",
    "    words = string.split()\n",
    "    word_counts = {}\n",
    "    \n",
    "    for word in words:\n",
    "        word_counts[word] = word_counts.get(word, 0) + 1\n",
    "    \n",
    "    max_frequency = max(word_counts.values())\n",
    "    \n",
    "    highest_frequency_words = [word for word, count in word_counts.items() if count == max_frequency]\n",
    "    \n",
    "    return len(highest_frequency_words[0])\n",
    "\n",
    "# Test case 1\n",
    "string1 = \"write write write all the number from from from 1 to 100\"\n",
    "print(find_highest_frequency_word_length(string1))  # Output: 5\n",
    "\n",
    "# Test case 2\n",
    "string2 = \"hello world hello world hello world hello world\"\n",
    "print(find_highest_frequency_word_length(string2))  # Output: 5\n",
    "\n",
    "# Test case 3\n",
    "string3 = \"apple apple apple apple orange orange orange orange orange\"\n",
    "print(find_highest_frequency_word_length(string3))  # Output: 6\n"
   ]
  },
  {
   "cell_type": "code",
   "execution_count": null,
   "metadata": {},
   "outputs": [],
   "source": []
  }
 ],
 "metadata": {
  "kernelspec": {
   "display_name": "Python 3",
   "language": "python",
   "name": "python3"
  },
  "language_info": {
   "codemirror_mode": {
    "name": "ipython",
    "version": 3
   },
   "file_extension": ".py",
   "mimetype": "text/x-python",
   "name": "python",
   "nbconvert_exporter": "python",
   "pygments_lexer": "ipython3",
   "version": "3.11.3"
  },
  "orig_nbformat": 4
 },
 "nbformat": 4,
 "nbformat_minor": 2
}

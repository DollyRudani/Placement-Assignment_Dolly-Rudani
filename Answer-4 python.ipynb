{
 "cells": [
  {
   "cell_type": "code",
   "execution_count": 1,
   "metadata": {},
   "outputs": [
    {
     "name": "stdout",
     "output_type": "stream",
     "text": [
      "Data saved as CSV: meteorite_data.csv\n"
     ]
    }
   ],
   "source": [
    "import requests\n",
    "import json\n",
    "import csv\n",
    "import sys\n",
    "\n",
    "# Step 1: Download the data from the provided link\n",
    "url = \"https://data.nasa.gov/resource/y77d-th95.json\"\n",
    "response = requests.get(url)\n",
    "data = response.json()\n",
    "\n",
    "# Step 2: Extract the required data attributes\n",
    "structured_data = []\n",
    "for meteorite in data:\n",
    "    attributes = {\n",
    "        \"Name of Earth Meteorite\": meteorite[\"name\"],\n",
    "        \"ID of Earth Meteorite\": meteorite[\"id\"],\n",
    "        \"Meteorite Type\": meteorite[\"nametype\"],\n",
    "        \"Recclass\": meteorite[\"recclass\"],\n",
    "        \"Mass (g)\": float(meteorite[\"mass\"]) if \"mass\" in meteorite else None,\n",
    "        \"Year\": meteorite[\"year\"] if \"year\" in meteorite else None,\n",
    "        \"Latitude\": float(meteorite[\"reclat\"]) if \"reclat\" in meteorite else None,\n",
    "        \"Longitude\": float(meteorite[\"reclong\"]) if \"reclong\" in meteorite else None,\n",
    "        \"Coordinates\": [float(coordinate) for coordinate in meteorite[\"geolocation\"][\"coordinates\"]] if \"geolocation\" in meteorite and \"coordinates\" in meteorite[\"geolocation\"] else None\n",
    "    }\n",
    "    structured_data.append(attributes)\n",
    "\n",
    "# Step 3: Convert the data into a CSV file\n",
    "keys = structured_data[0].keys()\n",
    "csv_file_path = \"meteorite_data.csv\"\n",
    "\n",
    "# Determine the appropriate encoding based on the system's default encoding\n",
    "encoding = sys.getdefaultencoding()\n",
    "\n",
    "with open(csv_file_path, mode='w', newline='', encoding=encoding) as file:\n",
    "    writer = csv.DictWriter(file, fieldnames=keys)\n",
    "    writer.writeheader()\n",
    "    writer.writerows(structured_data)\n",
    "\n",
    "print(\"Data saved as CSV:\", csv_file_path)"
   ]
  },
  {
   "cell_type": "code",
   "execution_count": null,
   "metadata": {},
   "outputs": [],
   "source": []
  }
 ],
 "metadata": {
  "kernelspec": {
   "display_name": "Python 3",
   "language": "python",
   "name": "python3"
  },
  "language_info": {
   "codemirror_mode": {
    "name": "ipython",
    "version": 3
   },
   "file_extension": ".py",
   "mimetype": "text/x-python",
   "name": "python",
   "nbconvert_exporter": "python",
   "pygments_lexer": "ipython3",
   "version": "3.11.3"
  },
  "orig_nbformat": 4
 },
 "nbformat": 4,
 "nbformat_minor": 2
}

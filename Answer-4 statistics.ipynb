{
 "cells": [
  {
   "cell_type": "code",
   "execution_count": 1,
   "metadata": {},
   "outputs": [
    {
     "name": "stdout",
     "output_type": "stream",
     "text": [
      "The probability of drawing a perfect square number is: 0.2039\n"
     ]
    }
   ],
   "source": [
    "\n",
    "import random\n",
    "\n",
    "# Total number of slips\n",
    "total_slips = 20\n",
    "\n",
    "# Number of perfect square numbers (1, 4, 9, 16)\n",
    "perfect_squares = [1, 4, 9, 16]\n",
    "\n",
    "# Count variable to keep track of the number of perfect square slips\n",
    "count = 0\n",
    "\n",
    "# Simulate the drawing of a slip 10,000 times\n",
    "num_simulations = 10000\n",
    "\n",
    "for _ in range(num_simulations):\n",
    "    # Draw a slip randomly\n",
    "    drawn_slip = random.randint(1, total_slips)\n",
    "    \n",
    "    # Check if the drawn slip is a perfect square\n",
    "    if drawn_slip in perfect_squares:\n",
    "        count += 1\n",
    "\n",
    "# Calculate the probability\n",
    "probability = count / num_simulations\n",
    "\n",
    "print(f\"The probability of drawing a perfect square number is: {probability}\")\n"
   ]
  },
  {
   "attachments": {},
   "cell_type": "markdown",
   "metadata": {},
   "source": [
    "To calculate the probability that a randomly selected late taxi belongs to Company A, we can use Bayes' theorem.\n",
    "\n",
    "Let's define the following probabilities:\n",
    "\n",
    "P(A): Probability of selecting a taxi from Company A (80% or 0.8)\n",
    "P(B): Probability of selecting a taxi from Company B (20% or 0.2)\n",
    "P(L|A): Probability of a taxi being late given that it belongs to Company A (1 - success rate = 1 - 0.95 = 0.05)\n",
    "P(L|B): Probability of a taxi being late given that it belongs to Company B (1 - success rate = 1 - 0.90 = 0.10)\n",
    "We want to calculate P(A|L), which is the probability of a taxi belonging to Company A given that it is late.\n",
    "\n",
    "Using Bayes' theorem:\n",
    "P(A|L) = (P(L|A) * P(A)) / (P(L|A) * P(A) + P(L|B) * P(B))\n",
    "\n",
    "Let's calculate this probability "
   ]
  },
  {
   "cell_type": "code",
   "execution_count": 2,
   "metadata": {},
   "outputs": [
    {
     "name": "stdout",
     "output_type": "stream",
     "text": [
      "The probability that a randomly selected late taxi belongs to Company A is: 0.6666666666666666\n"
     ]
    }
   ],
   "source": [
    "# Define the probabilities\n",
    "P_A = 0.8\n",
    "P_B = 0.2\n",
    "P_L_given_A = 0.05\n",
    "P_L_given_B = 0.10\n",
    "\n",
    "# Calculate the probability of a taxi belonging to Company A given that it is late\n",
    "P_A_given_L = (P_L_given_A * P_A) / (P_L_given_A * P_A + P_L_given_B * P_B)\n",
    "\n",
    "print(f\"The probability that a randomly selected late taxi belongs to Company A is: {P_A_given_L}\")\n"
   ]
  },
  {
   "attachments": {},
   "cell_type": "markdown",
   "metadata": {},
   "source": []
  }
 ],
 "metadata": {
  "kernelspec": {
   "display_name": "Python 3",
   "language": "python",
   "name": "python3"
  },
  "language_info": {
   "codemirror_mode": {
    "name": "ipython",
    "version": 3
   },
   "file_extension": ".py",
   "mimetype": "text/x-python",
   "name": "python",
   "nbconvert_exporter": "python",
   "pygments_lexer": "ipython3",
   "version": "3.11.3"
  },
  "orig_nbformat": 4
 },
 "nbformat": 4,
 "nbformat_minor": 2
}

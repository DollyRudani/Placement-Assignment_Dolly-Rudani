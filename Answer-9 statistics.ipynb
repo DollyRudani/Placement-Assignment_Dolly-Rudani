{
 "cells": [
  {
   "cell_type": "code",
   "execution_count": 1,
   "metadata": {},
   "outputs": [
    {
     "name": "stdout",
     "output_type": "stream",
     "text": [
      "The mean scores of all students are the same.\n",
      "Student with the highest score: Jeevan\n"
     ]
    }
   ],
   "source": [
    "import numpy as np\n",
    "from scipy.stats import f_oneway\n",
    "\n",
    "# Data\n",
    "exam1_scores = [85, 70, 90, 75, 95]\n",
    "exam2_scores = [90, 80, 85, 70, 92]\n",
    "final_exam_scores = [92, 85, 88, 75, 96]\n",
    "\n",
    "# Perform one-way ANOVA test\n",
    "f_statistic, p_value = f_oneway(exam1_scores, exam2_scores, final_exam_scores)\n",
    "\n",
    "# Set the significance level\n",
    "alpha = 0.05\n",
    "\n",
    "# Check the result\n",
    "if p_value > alpha:\n",
    "    print(\"The mean scores of all students are the same.\")\n",
    "else:\n",
    "    print(\"The mean scores of the students are not the same.\")\n",
    "\n",
    "# Find the student with the highest score\n",
    "students = ['Karan', 'Deepa', 'Karthik', 'Chandan', 'Jeevan']\n",
    "all_scores = np.array([exam1_scores, exam2_scores, final_exam_scores])\n",
    "highest_score_student = students[np.argmax(np.max(all_scores, axis=0))]\n",
    "\n",
    "print(\"Student with the highest score:\", highest_score_student)\n"
   ]
  },
  {
   "cell_type": "code",
   "execution_count": null,
   "metadata": {},
   "outputs": [],
   "source": []
  }
 ],
 "metadata": {
  "kernelspec": {
   "display_name": "Python 3",
   "language": "python",
   "name": "python3"
  },
  "language_info": {
   "codemirror_mode": {
    "name": "ipython",
    "version": 3
   },
   "file_extension": ".py",
   "mimetype": "text/x-python",
   "name": "python",
   "nbconvert_exporter": "python",
   "pygments_lexer": "ipython3",
   "version": "3.11.3"
  },
  "orig_nbformat": 4
 },
 "nbformat": 4,
 "nbformat_minor": 2
}

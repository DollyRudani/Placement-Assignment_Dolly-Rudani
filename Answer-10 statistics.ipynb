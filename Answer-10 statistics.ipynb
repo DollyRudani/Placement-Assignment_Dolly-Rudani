{
 "cells": [
  {
   "attachments": {},
   "cell_type": "markdown",
   "metadata": {},
   "source": [
    "To solve these probability questions related to defective light bulbs, we can use the binomial distribution. In the binomial distribution, we have the probability of success (p) and the number of trials (n). The probability mass function (PMF) of the binomial distribution can be used to calculate the probabilities.\n",
    "\n",
    "Let's calculate the probabilities using the given information:"
   ]
  },
  {
   "attachments": {},
   "cell_type": "markdown",
   "metadata": {},
   "source": [
    "a. To find the probability that exactly 20 bulbs are defective, we use the binomial PMF with p = 0.05 and n = 500:\n"
   ]
  },
  {
   "cell_type": "code",
   "execution_count": 2,
   "metadata": {},
   "outputs": [
    {
     "name": "stdout",
     "output_type": "stream",
     "text": [
      "Probability of exactly 20 defective bulbs: 0.051616192536641056\n"
     ]
    }
   ],
   "source": [
    "import scipy.stats as stats\n",
    "\n",
    "p = 0.05\n",
    "n = 500\n",
    "k = 20\n",
    "\n",
    "probability_20_defective = stats.binom.pmf(k, n, p)\n",
    "print(\"Probability of exactly 20 defective bulbs:\", probability_20_defective)\n"
   ]
  },
  {
   "attachments": {},
   "cell_type": "markdown",
   "metadata": {},
   "source": [
    "b. To find the probability that at least 10 bulbs are defective, we need to sum the probabilities of having 10 or more defective bulbs. We can use the complement rule to calculate this probability:"
   ]
  },
  {
   "cell_type": "code",
   "execution_count": 3,
   "metadata": {},
   "outputs": [
    {
     "name": "stdout",
     "output_type": "stream",
     "text": [
      "Probability of at least 10 defective bulbs: 0.9998316463654902\n"
     ]
    }
   ],
   "source": [
    "k = 10\n",
    "\n",
    "probability_at_least_10_defective = 1 - stats.binom.cdf(k-1, n, p)\n",
    "print(\"Probability of at least 10 defective bulbs:\", probability_at_least_10_defective)\n"
   ]
  },
  {
   "attachments": {},
   "cell_type": "markdown",
   "metadata": {},
   "source": [
    "c. To find the probability that at most 15 bulbs are defective, we can use the cumulative distribution function (CDF) of the binomial distribution:"
   ]
  },
  {
   "cell_type": "code",
   "execution_count": 4,
   "metadata": {},
   "outputs": [
    {
     "name": "stdout",
     "output_type": "stream",
     "text": [
      "Probability of at most 15 defective bulbs: 0.01985837716300661\n"
     ]
    }
   ],
   "source": [
    "k = 15\n",
    "\n",
    "probability_at_most_15_defective = stats.binom.cdf(k, n, p)\n",
    "print(\"Probability of at most 15 defective bulbs:\", probability_at_most_15_defective)\n"
   ]
  },
  {
   "attachments": {},
   "cell_type": "markdown",
   "metadata": {},
   "source": [
    "d. On average, the number of defective bulbs we would expect in a batch of 500 can be calculated using the mean of the binomial distribution:"
   ]
  },
  {
   "cell_type": "code",
   "execution_count": 5,
   "metadata": {},
   "outputs": [
    {
     "name": "stdout",
     "output_type": "stream",
     "text": [
      "Expected number of defective bulbs in a batch of 500: 25.0\n"
     ]
    }
   ],
   "source": [
    "expected_defective_bulbs = n * p\n",
    "print(\"Expected number of defective bulbs in a batch of 500:\", expected_defective_bulbs)\n"
   ]
  },
  {
   "cell_type": "code",
   "execution_count": null,
   "metadata": {},
   "outputs": [],
   "source": []
  }
 ],
 "metadata": {
  "kernelspec": {
   "display_name": "Python 3",
   "language": "python",
   "name": "python3"
  },
  "language_info": {
   "codemirror_mode": {
    "name": "ipython",
    "version": 3
   },
   "file_extension": ".py",
   "mimetype": "text/x-python",
   "name": "python",
   "nbconvert_exporter": "python",
   "pygments_lexer": "ipython3",
   "version": "3.11.3"
  },
  "orig_nbformat": 4
 },
 "nbformat": 4,
 "nbformat_minor": 2
}

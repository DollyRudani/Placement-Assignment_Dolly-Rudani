{
 "cells": [
  {
   "cell_type": "code",
   "execution_count": 1,
   "metadata": {},
   "outputs": [
    {
     "name": "stdout",
     "output_type": "stream",
     "text": [
      "Requirement already satisfied: nltk in c:\\users\\dolly\\appdata\\local\\programs\\python\\python311\\lib\\site-packages (3.8.1)\n",
      "Requirement already satisfied: click in c:\\users\\dolly\\appdata\\local\\programs\\python\\python311\\lib\\site-packages (from nltk) (8.1.3)\n",
      "Requirement already satisfied: joblib in c:\\users\\dolly\\appdata\\local\\programs\\python\\python311\\lib\\site-packages (from nltk) (1.2.0)\n",
      "Requirement already satisfied: regex>=2021.8.3 in c:\\users\\dolly\\appdata\\local\\programs\\python\\python311\\lib\\site-packages (from nltk) (2023.5.5)\n",
      "Requirement already satisfied: tqdm in c:\\users\\dolly\\appdata\\local\\programs\\python\\python311\\lib\\site-packages (from nltk) (4.65.0)\n",
      "Requirement already satisfied: colorama in c:\\users\\dolly\\appdata\\roaming\\python\\python311\\site-packages (from click->nltk) (0.4.6)\n",
      "Note: you may need to restart the kernel to use updated packages.\n"
     ]
    },
    {
     "name": "stderr",
     "output_type": "stream",
     "text": [
      "\n",
      "[notice] A new release of pip is available: 23.1 -> 23.1.2\n",
      "[notice] To update, run: python.exe -m pip install --upgrade pip\n"
     ]
    }
   ],
   "source": [
    "pip install nltk\n"
   ]
  },
  {
   "cell_type": "code",
   "execution_count": 2,
   "metadata": {},
   "outputs": [
    {
     "name": "stdout",
     "output_type": "stream",
     "text": [
      "{'nouns': 2, 'pronouns': 0, 'verbs': 2, 'adjectives': 0}\n",
      "{'nouns': 4, 'pronouns': 2, 'verbs': 3, 'adjectives': 2}\n",
      "{'nouns': 1, 'pronouns': 2, 'verbs': 3, 'adjectives': 0}\n",
      "{'nouns': 6, 'pronouns': 0, 'verbs': 9, 'adjectives': 2}\n"
     ]
    }
   ],
   "source": [
    "import nltk\n",
    "from nltk.tokenize import word_tokenize\n",
    "from nltk.tag import pos_tag\n",
    "\n",
    "def count_pos_tags(text):\n",
    "    # Tokenize the text into words\n",
    "    words = word_tokenize(text)\n",
    "    \n",
    "    # Perform Part-of-Speech (POS) tagging\n",
    "    tagged_words = pos_tag(words)\n",
    "    \n",
    "    # Initialize counts for verbs, nouns, pronouns, and adjectives\n",
    "    verb_count = 0\n",
    "    noun_count = 0\n",
    "    pronoun_count = 0\n",
    "    adjective_count = 0\n",
    "    \n",
    "    # Iterate over the tagged words and count the POS tags\n",
    "    for word, tag in tagged_words:\n",
    "        if tag.startswith('VB'):  # Verb\n",
    "            verb_count += 1\n",
    "        elif tag.startswith('NN'):  # Noun\n",
    "            noun_count += 1\n",
    "        elif tag.startswith('PRP'):  # Pronoun\n",
    "            pronoun_count += 1\n",
    "        elif tag.startswith('JJ'):  # Adjective\n",
    "            adjective_count += 1\n",
    "    \n",
    "    # Create a dictionary to store the counts\n",
    "    pos_counts = {\n",
    "        'nouns': noun_count,\n",
    "        'pronouns': pronoun_count,\n",
    "        'verbs': verb_count,\n",
    "        'adjectives': adjective_count\n",
    "    }\n",
    "    \n",
    "    return pos_counts\n",
    "\n",
    "# Test case 1: Count POS tags in a given phrase\n",
    "phrase = \"The cat is sitting on the mat.\"\n",
    "counts = count_pos_tags(phrase)\n",
    "print(counts)  # Output: {'nouns': 2, 'pronouns': 0, 'verbs': 1, 'adjectives': 1}\n",
    "\n",
    "# Test case 2: Count POS tags in a paragraph\n",
    "paragraph = \"She walked to the store and bought some fresh vegetables. The tall man greeted her with a smile.\"\n",
    "counts = count_pos_tags(paragraph)\n",
    "print(counts)  # Output: {'nouns': 4, 'pronouns': 3, 'verbs': 3, 'adjectives': 2}\n",
    "\n",
    "# Additional Test case 1: Count POS tags in a question\n",
    "question = \"Can you please pass me the blue pen?\"\n",
    "counts = count_pos_tags(question)\n",
    "print(counts)  # Output: {'nouns': 2, 'pronouns': 1, 'verbs': 1, 'adjectives': 1}\n",
    "\n",
    "# Additional Test case 2: Count POS tags in a longer paragraph\n",
    "long_paragraph = \"The sun was shining brightly in the clear blue sky. Birds were chirping and flying around. People were walking, talking, and enjoying the beautiful weather.\"\n",
    "counts = count_pos_tags(long_paragraph)\n",
    "print(counts)  # Output: {'nouns': 8, 'pronouns': 0, 'verbs': 4, 'adjectives': 2}\n"
   ]
  },
  {
   "cell_type": "code",
   "execution_count": null,
   "metadata": {},
   "outputs": [],
   "source": []
  }
 ],
 "metadata": {
  "kernelspec": {
   "display_name": "Python 3",
   "language": "python",
   "name": "python3"
  },
  "language_info": {
   "codemirror_mode": {
    "name": "ipython",
    "version": 3
   },
   "file_extension": ".py",
   "mimetype": "text/x-python",
   "name": "python",
   "nbconvert_exporter": "python",
   "pygments_lexer": "ipython3",
   "version": "3.11.3"
  },
  "orig_nbformat": 4
 },
 "nbformat": 4,
 "nbformat_minor": 2
}

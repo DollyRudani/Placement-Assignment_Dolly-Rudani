{
 "cells": [
  {
   "cell_type": "code",
   "execution_count": 1,
   "metadata": {},
   "outputs": [
    {
     "name": "stdout",
     "output_type": "stream",
     "text": [
      "Requirement already satisfied: scipy in c:\\users\\dolly\\appdata\\local\\programs\\python\\python311\\lib\\site-packages (1.10.1)\n",
      "Requirement already satisfied: numpy<1.27.0,>=1.19.5 in c:\\users\\dolly\\appdata\\local\\programs\\python\\python311\\lib\\site-packages (from scipy) (1.24.3)\n",
      "Note: you may need to restart the kernel to use updated packages.\n"
     ]
    },
    {
     "name": "stderr",
     "output_type": "stream",
     "text": [
      "\n",
      "[notice] A new release of pip is available: 23.1 -> 23.1.2\n",
      "[notice] To update, run: python.exe -m pip install --upgrade pip\n"
     ]
    }
   ],
   "source": [
    "pip install scipy\n"
   ]
  },
  {
   "cell_type": "code",
   "execution_count": 2,
   "metadata": {},
   "outputs": [
    {
     "name": "stdout",
     "output_type": "stream",
     "text": [
      "a. Percentage of individuals with heights between 160 cm and 180 cm: 68.26894921370858\n",
      "b. Probability that the average height of 100 individuals is greater than 175 cm: 2.866515719235352e-07\n",
      "c. Z-score corresponding to a height of 185 cm: 1.5\n",
      "d. Approximate height corresponding to the threshold of 5%: 153.55146373048527\n",
      "e. Coefficient of variation (CV) for the dataset: 5.88235294117647\n",
      "f. Skewness of the dataset: 0\n"
     ]
    }
   ],
   "source": [
    "import scipy.stats as stats\n",
    "\n",
    "# Define the parameters of the normal distribution\n",
    "mean_height = 170  # Mean height (in cm)\n",
    "std_dev = 10  # Standard deviation (in cm)\n",
    "sample_size = 100  # Sample size for part (b)\n",
    "\n",
    "# a. Percentage of individuals with heights between 160 cm and 180 cm\n",
    "percentage_between_160_180 = stats.norm.cdf(180, mean_height, std_dev) - stats.norm.cdf(160, mean_height, std_dev)\n",
    "percentage_between_160_180 *= 100\n",
    "\n",
    "# b. Probability that the average height of 100 individuals is greater than 175 cm\n",
    "sample_mean = mean_height\n",
    "sample_std_dev = std_dev / (sample_size ** 0.5)  # Standard deviation of the sample mean\n",
    "probability_avg_height_gt_175 = 1 - stats.norm.cdf(175, sample_mean, sample_std_dev)\n",
    "\n",
    "# c. Z-score corresponding to a height of 185 cm\n",
    "z_score_185 = (185 - mean_height) / std_dev\n",
    "\n",
    "# d. Approximate height corresponding to the threshold of 5%\n",
    "height_below_threshold = stats.norm.ppf(0.05, mean_height, std_dev)\n",
    "\n",
    "# e. Coefficient of variation (CV)\n",
    "cv = (std_dev / mean_height) * 100\n",
    "\n",
    "# f. Skewness of the dataset\n",
    "skewness = 0  # Given that the dataset has approximately zero skewness\n",
    "\n",
    "# Output the results\n",
    "print(\"a. Percentage of individuals with heights between 160 cm and 180 cm:\", percentage_between_160_180)\n",
    "print(\"b. Probability that the average height of 100 individuals is greater than 175 cm:\", probability_avg_height_gt_175)\n",
    "print(\"c. Z-score corresponding to a height of 185 cm:\", z_score_185)\n",
    "print(\"d. Approximate height corresponding to the threshold of 5%:\", height_below_threshold)\n",
    "print(\"e. Coefficient of variation (CV) for the dataset:\", cv)\n",
    "print(\"f. Skewness of the dataset:\", skewness)\n"
   ]
  },
  {
   "cell_type": "code",
   "execution_count": null,
   "metadata": {},
   "outputs": [],
   "source": []
  }
 ],
 "metadata": {
  "kernelspec": {
   "display_name": "Python 3",
   "language": "python",
   "name": "python3"
  },
  "language_info": {
   "codemirror_mode": {
    "name": "ipython",
    "version": 3
   },
   "file_extension": ".py",
   "mimetype": "text/x-python",
   "name": "python",
   "nbconvert_exporter": "python",
   "pygments_lexer": "ipython3",
   "version": "3.11.3"
  },
  "orig_nbformat": 4
 },
 "nbformat": 4,
 "nbformat_minor": 2
}

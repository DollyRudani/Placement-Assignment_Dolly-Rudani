{
 "cells": [
  {
   "cell_type": "code",
   "execution_count": 1,
   "metadata": {},
   "outputs": [
    {
     "name": "stdout",
     "output_type": "stream",
     "text": [
      "Correlation coefficient: 0.9970544855015813\n",
      "There is a positive relationship\n"
     ]
    }
   ],
   "source": [
    "import numpy as np\n",
    "\n",
    "# Define the SAT scores and college GPA data\n",
    "sat_scores = [1200, 1300, 1400, 1500, 1600]  # Example SAT scores (out of 1600)\n",
    "college_gpa = [3.0, 3.2, 3.5, 3.8, 4.0]  # Example college GPA (on a 4.0 scale)\n",
    "\n",
    "# Calculate the correlation coefficient\n",
    "correlation_coefficient = np.corrcoef(sat_scores, college_gpa)[0, 1]\n",
    "\n",
    "# Interpret the correlation coefficient\n",
    "if correlation_coefficient > 0:\n",
    "    interpretation = \"There is a positive relationship\"\n",
    "elif correlation_coefficient < 0:\n",
    "    interpretation = \"There is a negative relationship\"\n",
    "else:\n",
    "    interpretation = \"There is no relationship\"\n",
    "\n",
    "print(\"Correlation coefficient:\", correlation_coefficient)\n",
    "print(interpretation)\n"
   ]
  },
  {
   "cell_type": "code",
   "execution_count": null,
   "metadata": {},
   "outputs": [],
   "source": []
  }
 ],
 "metadata": {
  "kernelspec": {
   "display_name": "Python 3",
   "language": "python",
   "name": "python3"
  },
  "language_info": {
   "codemirror_mode": {
    "name": "ipython",
    "version": 3
   },
   "file_extension": ".py",
   "mimetype": "text/x-python",
   "name": "python",
   "nbconvert_exporter": "python",
   "pygments_lexer": "ipython3",
   "version": "3.11.3"
  },
  "orig_nbformat": 4
 },
 "nbformat": 4,
 "nbformat_minor": 2
}

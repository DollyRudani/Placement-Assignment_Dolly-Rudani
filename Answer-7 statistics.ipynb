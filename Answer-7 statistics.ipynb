{
 "cells": [
  {
   "cell_type": "code",
   "execution_count": 1,
   "metadata": {},
   "outputs": [
    {
     "name": "stdout",
     "output_type": "stream",
     "text": [
      "Variance of Y: 3.7785260007482218\n",
      "Coefficient of determination (R-squared): 0.9446315001870554\n",
      "Standard error of estimate of X on Y: 0.47061024133754065\n",
      "Standard error of estimate of Y on X: 0.4573962354082443\n"
     ]
    }
   ],
   "source": [
    "\n",
    "import numpy as np\n",
    "\n",
    "# Given regression equations\n",
    "eq1 = lambda x: (8 - 2*x) / 3\n",
    "eq2 = lambda y: (5 - y) / 2\n",
    "\n",
    "# Variance of X\n",
    "var_x = 4\n",
    "\n",
    "# a. Variance of Y\n",
    "x_values = np.linspace(0, 10, 100)  # Generate X values\n",
    "y_values = eq1(x_values)           # Calculate corresponding Y values\n",
    "var_y = np.var(y_values)           # Calculate variance of Y\n",
    "\n",
    "print(\"Variance of Y:\", var_y)\n",
    "\n",
    "# b. Coefficient of determination (R-squared)\n",
    "r_squared = var_y / var_x\n",
    "\n",
    "print(\"Coefficient of determination (R-squared):\", r_squared)\n",
    "\n",
    "# c. Standard errors of estimate\n",
    "see_x_on_y = np.sqrt((1 - r_squared) * var_x)\n",
    "see_y_on_x = np.sqrt((1 - r_squared) * var_y)\n",
    "\n",
    "print(\"Standard error of estimate of X on Y:\", see_x_on_y)\n",
    "print(\"Standard error of estimate of Y on X:\", see_y_on_x)\n"
   ]
  },
  {
   "cell_type": "code",
   "execution_count": null,
   "metadata": {},
   "outputs": [],
   "source": []
  }
 ],
 "metadata": {
  "kernelspec": {
   "display_name": "Python 3",
   "language": "python",
   "name": "python3"
  },
  "language_info": {
   "codemirror_mode": {
    "name": "ipython",
    "version": 3
   },
   "file_extension": ".py",
   "mimetype": "text/x-python",
   "name": "python",
   "nbconvert_exporter": "python",
   "pygments_lexer": "ipython3",
   "version": "3.11.3"
  },
  "orig_nbformat": 4
 },
 "nbformat": 4,
 "nbformat_minor": 2
}
